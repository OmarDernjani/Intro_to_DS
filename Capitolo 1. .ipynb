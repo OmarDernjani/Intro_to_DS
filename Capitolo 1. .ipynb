{
 "cells": [
  {
   "cell_type": "markdown",
   "id": "81b551db",
   "metadata": {},
   "source": [
    "# 1. Introduzione "
   ]
  },
  {
   "cell_type": "markdown",
   "id": "60593b35",
   "metadata": {},
   "source": [
    "## 1.1 Creazione ambiente di sviluppo"
   ]
  },
  {
   "cell_type": "markdown",
   "id": "738e9790",
   "metadata": {},
   "source": [
    "Le librerie più utilizzate in ambito ML e sopratutto il calcolo scientifico sono le seguenti: \n",
    "-  Jupyter notebook: una libreria che permette di condensare il lavoro in delle piccole celle e che aggiunge alcune funzioni particolari, che saranno esplorate successivamente;\n",
    "-  Numpy: questa libreria ci permette di semplificare molte delle operazioni con matrici e vettori, in particolare la sintassi di Numpy è molto simile a quella di Matlab;\n",
    "- Altre librerie saranno analizzate e discusse in caso di necessità.\n"
   ]
  },
  {
   "cell_type": "markdown",
   "id": "ce8152fb",
   "metadata": {},
   "source": [
    "Possiamo iniziare con alcune operazioni di base, per iniziare dobbiamo infatti scaricare ed importare alcune librerie: \n",
    "-  Il download di Jupyter notebook in primis, lo strumento che stiamo utilizzando in questo momento, è molto semplice, basta infatti, una volta scaricata una qualsiasi versione di Python 3 (dotata del package manager pip), scrivere nella Shell: ```pip install jupyter notebook```; (anche se Jupyter rientra all'interno delle librerie per semplicità, questo è uno strumento interattivo che permette di utilizzare Markdown e codice che esegue al momento, ne parleremo successivamente in modo più specifico)\n",
    "- Lo stesso vale per le librerie che scaricheremo e utilizzeremo successivamente. ```pip install __nome libreria__```"
   ]
  },
  {
   "cell_type": "markdown",
   "id": "a81acdfb",
   "metadata": {},
   "source": [
    "Possiamo notare due cose interessanti rispetto all'ambiente di sviluppo per applicazioni su Python: \n",
    "- Molte delle applicazioni hanno delle specifiche differenti, per specifiche si intende per la maggior parte, l'insieme delle librerie necessarie per eseguire un programma, è utile nella maggior parte dei casi costruire un ambiente virtuale, ovvero un container che abbia al suo interno tutte le librerie necessarie per seguire script. Per fare questo utilizzeremo una libreria importantissima, ovvero __venv__, che sta proprio a significare __virtual environments__.\n",
    "In particolare per utilizzare venv, basta runnare ```python3 -m venv myenv```, dove myenv è il nome della directory del futuro venv.\n",
    "Una volta creata la cartella del venv, bisogna necessariamente attivarlo, questo è possibile farlo runnando dalla shell nella cartella del venv: ```source myenv/bin/activate``` dove __myenv__ è un nome arbitrario che sta ad indicare il nome selezionato del proprio ambiente personale. \n",
    "- Una cosa interessante che ci permette di fare Jupyter è quella di scaricare delle librerie direttamente sul notebook, segue un esempio di codice:"
   ]
  },
  {
   "cell_type": "code",
   "execution_count": null,
   "id": "66cd6494",
   "metadata": {},
   "outputs": [],
   "source": [
    "## --> !pip install <nome_libreria> (per utenti Windows e MacOS)\n",
    "## --> pip install <nome_libreria> (utilizzando ipykernel)\n",
    "\n",
    "#Comandi Shell per scaricare ipykernel e farlo puntare al venv\n",
    "\n",
    "#attivare il venv source venv/bin/activate nella cartella del progetto\n",
    "#scaricare all'interno del venv la libreria: pip install ipykernel\n",
    "\n",
    "#runnare il comando:\n",
    "#python -m ipykernel install --user --name=myenv --display-name \"Python (myenv)\"\n",
    "#dove --name è il nome del venv e --display-name è il nome che appare in jupyter\n",
    "#selezionare su Jupyter Notebook: Kernel -> Change Kernel -> il display-name selezionato \n"
   ]
  },
  {
   "cell_type": "markdown",
   "id": "24f89ca2",
   "metadata": {},
   "source": [
    "Altrimenti, nel caso caso di linux, oppure per utenti avanzati di altri sistemi operativi, è possibile tramite la libreria di ipykernel, far puntare il kernel di jupyter al kernel del venv, di conseguenza tutte le librerie scaricare su jupyter andranno automaticamente nel venv.\n",
    "Il caso degli utenti Linux è particolare, infatti per questioni di gestione delle dipendenze non è possibile scaricare librerie tramite il pip (se non dentro il venv), ma è necessario farlo con __apt__.\n",
    "La soluzione con ipykernel è quella più consigliata ma, per questioni di brevità non sarà trattata o almeno non adesso, per gli utenti più curiosi basta utilizzare le relative documentazioni."
   ]
  },
  {
   "cell_type": "markdown",
   "id": "8fdb9b62",
   "metadata": {},
   "source": [
    "### Esercizio 1\n",
    "Provare ad installare le seguenti librerie __inline__ (cioè mentre il codice esegue) su Jupyter Notebook, importarle e successivamente stampare \"l'ambiente di sviluppo è pronto\":\n",
    "- Numpy;\n",
    "- Matplotlib;\n",
    "- Pandas;"
   ]
  },
  {
   "cell_type": "code",
   "execution_count": null,
   "id": "9cb39d8c",
   "metadata": {},
   "outputs": [],
   "source": [
    "\"\"\"inserire il corpo dell'esercizio\"\"\""
   ]
  },
  {
   "cell_type": "markdown",
   "id": "1278ec6d",
   "metadata": {},
   "source": [
    "## 1.2 Cenni di algebra lineare "
   ]
  },
  {
   "cell_type": "markdown",
   "id": "e44d2dec",
   "metadata": {},
   "source": [
    "L'algebra lineare è uno degli strumenti principali nell'analisi dei dati e nel machine learning, questo perchè fondamentalmente, ogni dato può essere rappresentato utilizzando certe cordinate in uno spazio cartesiano (euclideo) ed n-dimensionale. Una delle librerie fondamentali, pilastro del calcolo scientifico, è proprio __Numpy__. Immaginiamo di avere un sistema di equazioni lineari:\n",
    "\n",
    "\n",
    "\\begin{cases}\n",
    "a_{11}x_{1} + a_{12}x_{2} + \\cdots + a_{1n}x_{n} = b_{1}\\\\\n",
    "a_{21}x_{1} + a_{22}x_{2} + \\cdots + a_{2n}x_{n} = b_{2}\\\\\n",
    "\\;\\vdots \\\\\n",
    "a_{m1}x_{1} + a_{m2}x_{2} + \\cdots + a_{mn}x_{n} = b_{m}\n",
    "\\end{cases}\n",
    "\n",
    "\n",
    "\n",
    "Che può essere rappresentato in forma matriciale attraverso tre matrici:\n",
    "1. __la matrice A dei coefficienti__ :\n",
    "\n",
    "\n",
    "\\begin{bmatrix}\n",
    "a_{11} & a_{12} & \\cdots & a_{1n}\\\\\n",
    "a_{21} & a_{22} & \\cdots & a_{2n}\\\\\n",
    "\\vdots & \\vdots & \\ddots & \\vdots\\\\\n",
    "a_{m1} & a_{m2} & \\cdots & a_{mn}\n",
    "\\end{bmatrix}\n",
    "\n",
    "2. La matrice __delle incognite x__:\n",
    "\\begin{bmatrix}\n",
    "x_{1}\\\\ x_{2}\\\\ \\vdots\\\\ x_{n}\n",
    "\\end{bmatrix}\n",
    "\n",
    "3. La matrice dei __termini noti__:\n",
    "\\begin{bmatrix}\n",
    "b_{1}\\\\ b_{2}\\\\ \\vdots\\\\ b_{m}\n",
    "\\end{bmatrix}.\n",
    "\n",
    "Attraverso una notazione matriciale, il sistema lineare è isomorfo alla matrice __Ax=b__,ovvero, in forma espansa:\n",
    "$$\n",
    "\\begin{bmatrix}\n",
    "a_{11} & a_{12} & \\cdots & a_{1n}\\\\\n",
    "a_{21} & a_{22} & \\cdots & a_{2n}\\\\\n",
    "\\vdots & \\vdots & \\ddots & \\vdots\\\\\n",
    "a_{m1} & a_{m2} & \\cdots & a_{mn}\n",
    "\\end{bmatrix}\n",
    "\\begin{bmatrix}\n",
    "x_{1}\\\\\n",
    "x_{2}\\\\\n",
    "\\vdots\\\\\n",
    "x_{n}\n",
    "\\end{bmatrix}\n",
    "=\n",
    "\\begin{bmatrix}\n",
    "b_{1}\\\\\n",
    "b_{2}\\\\\n",
    "\\vdots\\\\\n",
    "b_{m}\n",
    "\\end{bmatrix}\n",
    "$$\n",
    "\n"
   ]
  },
  {
   "cell_type": "markdown",
   "id": "ae886d47",
   "metadata": {},
   "source": [
    "Numpy ci permette di creare propriamente queste matrici. Facciamo un passo indietro e valutiamo il funzionamento del tipo __array__ in Python. Matematicamente sappiamo che per definizione, una sequenza di valori \n",
    "\\(\\mathbf{v} = [x_1, \\dots, x_n]\\) è definita come vettore se:\n",
    "\n",
    "1. Moltiplicazione per scalare:\n",
    "$$\n",
    "\\forall \\lambda \\in \\mathbb{R}, \\quad\n",
    "\\lambda \\mathbf{v} = \n",
    "\\begin{bmatrix}\n",
    "\\lambda x_1 \\\\\n",
    "\\lambda x_2 \\\\\n",
    "\\vdots \\\\\n",
    "\\lambda x_n\n",
    "\\end{bmatrix}\n",
    "$$\n",
    "\n",
    "2. Somma di vettori:\n",
    "$$\n",
    "\\forall \\mathbf{v}, \\mathbf{w} \\in \\mathbb{R}^n, \\quad\n",
    "\\mathbf{v} + \\mathbf{w} =\n",
    "\\begin{bmatrix}\n",
    "v_1 + w_1 \\\\\n",
    "v_2 + w_2 \\\\\n",
    "\\vdots \\\\\n",
    "v_n + w_n\n",
    "\\end{bmatrix}\n",
    "$$\n",
    "\n",
    "\n",
    "\n"
   ]
  },
  {
   "cell_type": "code",
   "execution_count": null,
   "id": "a1c95b6a",
   "metadata": {},
   "outputs": [],
   "source": [
    "''' Proviamo a vedere se i tipi standard di python riescono a soddisfare \n",
    "le proprietà appena enunciate'''\n",
    "\n",
    "l1 = [1,2,3]\n",
    "l2 = [1,2,3]\n",
    "\n",
    "print(2*l1)\n",
    "print(l1+l2)\n",
    "\n",
    "''' Come è possibile notare in realtà gli array in Python non soddisfano di base\n",
    "le proprietà richieste, o almeno non nativamente, è possibile però definire una classe\n",
    "vettore con i propri metodi'''\n",
    "\n",
    "class Vector:\n",
    "    def __init__(self, data):\n",
    "        self.vector = data # data è una lista di numeri\n",
    "    \n",
    "    def vector_sum(self, v2):\n",
    "        if len(self.vector) != len(v2.vector):\n",
    "            raise ValueError(\"I vettori devono avere la stessa lunghezza\")\n",
    "        res = []\n",
    "        for i in range(len(self.vector)):\n",
    "            res.append(self.vector[i] + v2.vector[i])\n",
    "        return Vector(res)  # restituisce un nuovo oggetto Vector\n",
    "    \n",
    "    def scalar_mult(self, scalar):\n",
    "        res = []\n",
    "        for i in range(len(self.vector)):\n",
    "            res.append(self.vector[i] * scalar)\n",
    "        return Vector(res)\n",
    "    \n",
    "    def __repr__(self):\n",
    "        return f\"Vector({self.vector})\"\n",
    "\n",
    "'''Verifichiamo se soddisfa le proprietà richieste da un tipo vettore'''\n",
    "\n",
    "v1 = Vector(l1)\n",
    "v2 = Vector(l2)\n",
    "\n",
    "print(v1,v2)\n",
    "\n",
    "print(v1.vector_sum(v2),v2.vector_sum(v1))\n",
    "\n",
    "print(v1.scalar_mult(2))\n",
    "            \n"
   ]
  },
  {
   "cell_type": "markdown",
   "id": "dec10de6",
   "metadata": {},
   "source": [
    "Com'è possibile notare, è in realtà molto semplice creare una classe vettore che abbia le caratteristiche matematiche desiderate. La cosa interessante è che, grazie a numpy è tutto più semplice ed efficiente (non a caso molte delle librerie sono scritte in C), e questo, insieme all'ottima documentazione di numpy, rende preferibile l'utilizzo delle librerie standard di calcolo scientifico, piuttosto che quelle create dall'utente."
   ]
  },
  {
   "cell_type": "markdown",
   "id": "51195063",
   "metadata": {},
   "source": [
    "Tutto questo discorso, anche se leggermente più complicato, vale per le matrici, ed è proprio qui che ci viene in soccorso numpy. Prima di partire però, è utile ricordare alcune caratteristiche proprie del Jupyter Notebook. In particolare due funzioni:\n",
    "1. La funzione ```?``` che restuisce la docstring (una piccola descrizione) della funzione o del tipo richiesto;\n",
    "2. La funzione ```??``` che restituisce, oltre che la docstring, anche il codice sorgente e molte più informazioni sulla funzione o tipo richiesto.\n",
    "\n",
    "Segue un esempio:"
   ]
  },
  {
   "cell_type": "code",
   "execution_count": null,
   "id": "c51d353c",
   "metadata": {},
   "outputs": [],
   "source": [
    "int?\n",
    "int??"
   ]
  },
  {
   "cell_type": "markdown",
   "id": "3fdce285",
   "metadata": {},
   "source": [
    "Non sono solo le funzioni standard di Python ad avere queste funzioni, in realtà qualsiasi utente può scrivere una docstring che la accompagna, ad esempio:"
   ]
  },
  {
   "cell_type": "code",
   "execution_count": null,
   "id": "a4b8114b",
   "metadata": {},
   "outputs": [],
   "source": [
    "def int_sum(a1,a2):\n",
    "    ''' This function return the sum of two int type'''\n",
    "    return a1 + a2\n",
    "int_sum?"
   ]
  },
  {
   "cell_type": "markdown",
   "id": "3a556588",
   "metadata": {},
   "source": [
    "Una volta discusse tutte queste questioni possiamo iniziare a considerare la prima libreria."
   ]
  },
  {
   "cell_type": "markdown",
   "id": "bd3b546b",
   "metadata": {},
   "source": [
    "### Esercizio 2\n",
    "Creare una classe Matrix, che abbia i metodi di __somma tra matrici__, __prodotto tra matrici__ e __prodotto di una matrice per uno scalare__. Accompagnare inoltre ogni metodo con una docstring."
   ]
  },
  {
   "cell_type": "code",
   "execution_count": null,
   "id": "ff9589a6",
   "metadata": {},
   "outputs": [],
   "source": [
    "\"\"\"inserire il corpo dell'esercizio\"\"\""
   ]
  }
 ],
 "metadata": {
  "kernelspec": {
   "display_name": "Python (ML)",
   "language": "python",
   "name": "myenv"
  },
  "language_info": {
   "codemirror_mode": {
    "name": "ipython",
    "version": 3
   },
   "file_extension": ".py",
   "mimetype": "text/x-python",
   "name": "python",
   "nbconvert_exporter": "python",
   "pygments_lexer": "ipython3",
   "version": "3.12.3"
  }
 },
 "nbformat": 4,
 "nbformat_minor": 5
}
