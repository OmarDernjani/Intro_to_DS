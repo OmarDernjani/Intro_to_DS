{
 "cells": [
  {
   "cell_type": "markdown",
   "id": "bfb4f984",
   "metadata": {},
   "source": [
    "# 2.0 Rudimenti sulla libreria Numpy"
   ]
  },
  {
   "cell_type": "markdown",
   "id": "2ec1b4cc",
   "metadata": {},
   "source": [
    "In questo capitolo, l'obiettivo principale sarà quello di introdurre alcune operazioni base per le matrici, per l'esposizione cercheremo di trattare vettori e matrici nel modo più intuitivo possibile. In particolare possiamo iniziare a notare __isomorfismo__ tra vettori e matrici. I vettori infatti non sono altro che collezioni di coefficienti $ a_1,\\dots,a_n $, e a loro volta le matrici non sono altro che collezioni di vettori. Ogni matrice infatti può essere rappresentata come un lungo vettore:\n",
    "\n",
    "__Prop__:_Sia $A$ una matrice $m \\times n$ appartenente allo spazio vettoriale $\\mathbb{R}^{m \\times n}$. Questa matrice può essere rappresentata come un vettore ad m componenti (numero di righe) seguito da n vettori (numero di colonne) della stessa lunghezza del primo. E appartenente allo spazio vettoriale $\\mathbb{R}^{mn}$_\n",
    "\n",
    "In particolare questa operazione sarà fondamentale successivamente, in quanto ci consente di eseguire un __re-shape__ della matrice. Segue un esempio:\n"
   ]
  },
  {
   "cell_type": "code",
   "execution_count": 1,
   "id": "ab2aea55",
   "metadata": {
    "scrolled": true
   },
   "outputs": [
    {
     "name": "stdout",
     "output_type": "stream",
     "text": [
      "[[1 2 3]\n",
      " [4 5 6]]\n",
      "[1 2 3]\n",
      "[4 5 6]\n",
      "3\n",
      "(2, 3)\n",
      "[1 2 3 4 5 6]\n",
      "[[1 4]\n",
      " [2 5]\n",
      " [3 6]] [[1 4]\n",
      " [2 5]\n",
      " [3 6]]\n"
     ]
    }
   ],
   "source": [
    "import numpy as np\n",
    "\"\"\"  per dichiarare un array basta definire una concatenazione di liste e virgole, \n",
    "tutto questo è più intuitivo con un esempio \"\"\" \n",
    "\n",
    "A = np.array([[1, 2, 3],\n",
    "             [4, 5, 6]])\n",
    "\"\"\"ovviamente molti dei metodi classici valgono anche per gli array di numpy, come ad\n",
    "esempio la print, oppure l'indicizzazione delle liste\"\"\" \n",
    "\n",
    "print(A)\n",
    "\n",
    "for entries in A:\n",
    "    print (entries)\n",
    "\n",
    "\"\"\"il numero di indici, essendo una mxn è 2, il primo individua \n",
    "   la riga e il secondo la colonna, da notare come gli indici delle liste sono\n",
    "   del tutto simili alla gestione delle liste in python\"\"\"\n",
    "    \n",
    "print(A[0][2])  \n",
    "\"\"\"inoltre ci sono delle funzioni particolari per gli array, ad esempio\"\"\"\n",
    "\n",
    "print(A.shape)\n",
    "\n",
    "\"\"\"oppure quella di cui parlavamo prima, il reshape, dove in questo caso creiamo un vettore\n",
    "che ha come numero di righe il prodotto di mxn della matrice originale, ovviamente senza \n",
    "alcuna colonna\"\"\"\n",
    "\n",
    "B = A.reshape(6,)\n",
    "print(B)\n",
    "\n",
    "\"\"\"ovviamente numpy offre degli strumenti anche per calcolare la trasposta di una matrice\"\"\"\n",
    "\n",
    "C = A.T\n",
    "D = A.transpose()\n",
    "\n",
    "print(C,D)\n"
   ]
  },
  {
   "cell_type": "markdown",
   "id": "0c526771",
   "metadata": {},
   "source": [
    "Possiamo passare ora alle operazioni tra matrici. Possiamo facilmente individuare due operazioni fondamentali: __somma__ e __moltiplicazione__. Come abbiamo visto in precedenza, per un vettore è abbastanza semplice ed intuitivo applicare queste proprietà:"
   ]
  },
  {
   "cell_type": "code",
   "execution_count": null,
   "id": "e422d65e",
   "metadata": {},
   "outputs": [],
   "source": [
    "\"\"\"Come è possibile notare, con i tipi di numpy, è molto più naturale fare delle operazioni\n",
    "sulle strutture dati, questo perchè sono pensate proprio per soddisfare le proprietà matematiche\n",
    "dei vettori\"\"\"\n",
    "A = np.array([1,2,3])\n",
    "\n",
    "A = 3 * A\n",
    "\n",
    "B = np.array([2,4,6])\n",
    "\n",
    "print(A,\"\\n\", B,\"\\n\", A+B)"
   ]
  },
  {
   "cell_type": "markdown",
   "id": "66e42f07",
   "metadata": {},
   "source": [
    "Per le operazioni tra matrici il discorso è diverso, ne diamo brevemente una spiegazione:\n",
    "\n",
    "1. __Somma di matrici__: La somma di due matrici $A$ e $B$ dello stesso ordine (stesso numero di righe e colonne) si ottiene sommando elemento per elemento:\n",
    "\n",
    "$$ C=A+B \\ \\text{con} \\ c_{ij} = a_{ij}+b_{ij}$$\n",
    "Ogni elemento della matrice risultante $C$ è dato dalla somma dei corrispondenti elementi di $A$ e $B$. \n",
    "\n",
    "2. __Moltiplicazione di matrici (Inner Product)__: Il prodotto tra matrici $A$ e $B$ è definito quando il numero di colonne di $A$ coincide con il numero di righe di $B$. Si calcola come prodotto scalare tra righe di $A$ e colonne di $B$:\n",
    "\n",
    "$$C=A⋅B \\ \\text{con} \\ c_{ij}=∑a_{ik}b_{kj}$$\n",
    "\n",
    "In altre parole, ogni elemento $c{ij}$ della matrice risultante $C$ è la somma dei prodotti degli elementi della riga $i$ di $A$ con quelli della colonna $j$ di $B$.\n",
    "\n",
    "3. __Hadamard Product (Prodotto elemento per elemento)__: Il prodotto di Hadamard di due matrici \n",
    "$A$ e $B$ dello stesso ordine consiste nel moltiplicare elemento per elemento le due matrici:\n",
    "\n",
    "$$C=A∘B \\ \\text{con} \\ c_{ij}=a_{ij}⋅b_{ij}$$\n",
    "\n",
    "Ogni elemento della matrice risultante $C$ è quindi il prodotto dei corrispondenti elementi di $A$ e $B$."
   ]
  },
  {
   "cell_type": "markdown",
   "id": "dd58a1b7",
   "metadata": {},
   "source": [
    "Anche in questo caso le operazioni tra matrici sono molto semplici da utilizzare vediamo come farlo "
   ]
  },
  {
   "cell_type": "code",
   "execution_count": null,
   "id": "a3da0745",
   "metadata": {},
   "outputs": [],
   "source": [
    "A = np.array([[1,2,3],\n",
    "             [2,3,4]])\n",
    "\n",
    "\"\"\"questa funzione permette di creare degli array di uno, prende diversi parametri,\n",
    "il primo è una tupla che sta ad indicare la shape della matrice e il secondo, \n",
    "dtype=tipo_desiderato\"\"\"\n",
    "\n",
    "B = np.ones((2,3),dtype = \"int\") \n",
    "\n",
    "\"\"\"lo stesso vale per la seguente funzione, ma con tutti 0\"\"\"\n",
    "\n",
    "C = np.zeros((2,3),dtype = \"int\")\n",
    "\n",
    "print(A, \"\\n\", B, \"\\n\",C)\n",
    "\n",
    "\"\"\" a questo punto possiamo provare le operazioni\"\"\"\n",
    "\n",
    "#--------- SOMMA DI MATRICI \n",
    "D = A+B \n",
    "print(D) #da notare come i due sistemi debbano essere compatibili \n",
    "\n",
    "print(\"--------------\")\n",
    "\n",
    "#--------- INNER PRODUCT \n",
    "\"\"\" i seguenti sono due metodi equivalenti per performare l'inner product, l'importante\n",
    "è che i due sistemi siano compatibili, cioè il numero di righe della prima matrice deve essere\n",
    "uguale al numero di colonne della seconda\n",
    "\"\"\"\n",
    "A = np.array([[1,2,3],\n",
    "             [4,5,6]])\n",
    "\n",
    "B = np.array([[7,8],\n",
    "             [9,10],\n",
    "             [10,11]])\n",
    "\n",
    "print (A, \"\\n\", B)\n",
    "\n",
    "H = np.dot(A,B)\n",
    "C = A @ B\n",
    "print(A)\n",
    "print(\"le due matrici:\\n\", H, \"\\n\", C, \"\\nsono identiche\")\n",
    "\n",
    "print(\"--------------\")\n",
    "\n",
    "#--------- HADAMARD PRODUCT\n",
    "\"\"\"anche in questo caso i due sistemi devono essere compatibili, cioè la loro forma deve\n",
    "essere uguale\"\"\"\n",
    "A = A.T\n",
    "C = A * B\n",
    "\n",
    "print(C)"
   ]
  },
  {
   "cell_type": "markdown",
   "id": "7b3d26aa",
   "metadata": {},
   "source": [
    "Questo è quello che serve sapere per iniziare a trattare delle matrici su Python, successivamente vedremo come implementare degli argomenti avanzati dell'__algebra lineare__"
   ]
  },
  {
   "cell_type": "markdown",
   "id": "19ad9d56",
   "metadata": {},
   "source": [
    "### Esercizio 1\n",
    "\n",
    "Crea una matrice 4x3 con valori da 1 a 12 e svolgi le seguenti operazioni:\n",
    "* Calcola la trasposta della matrice\n",
    "* Estrai la seconda colonna\n",
    "* Estrai la seconda riga\n",
    "* Reshapa la matrice in un vettore riga di 12 elementi\n",
    "* Reshapa la matrice in una matrice 2x6"
   ]
  },
  {
   "cell_type": "code",
   "execution_count": null,
   "id": "7008f7d4",
   "metadata": {},
   "outputs": [],
   "source": [
    "\"\"\"inserire il corpo dell'esercizio\"\"\""
   ]
  },
  {
   "cell_type": "markdown",
   "id": "8a81c758",
   "metadata": {},
   "source": [
    "### Esercizio 2\n",
    "\n",
    "Date le matrici:\n",
    "\n",
    "```python\n",
    "A = np.array([[1, 2], [3, 4]])\n",
    "B = np.array([[5, 6], [7, 8]]) \n",
    "v = np.array([2, 3])\n",
    "```\n",
    "Calcola:\n",
    "\n",
    "* Prodotto matriciale tra A e B (A @ B)\n",
    "\n",
    "* Prodotto di Hadamard (element-wise) tra A e B (A * B)\n",
    "\n",
    "* Prodotto tra A e v (broadcasting)\n",
    "\n",
    "* Prodotto tra v e A (broadcasting)"
   ]
  },
  {
   "cell_type": "code",
   "execution_count": null,
   "id": "3a06e8a9",
   "metadata": {},
   "outputs": [],
   "source": [
    "\"\"\"inserire il corpo dell'esercizio\"\"\""
   ]
  },
  {
   "cell_type": "markdown",
   "id": "598df0f6",
   "metadata": {},
   "source": [
    "### Esercizio 3\n",
    "\n",
    "Data la matrice:\n",
    "\n",
    "\n",
    "```python\n",
    "M = np.array([[1, 2, 3], [4, 5, 6], [7, 8, 9]])\n",
    "```\n",
    "\n",
    "Esegui queste operazioni:\n",
    "\n",
    "* Calcola la somma di tutti gli elementi della matrice\n",
    "* Calcola la somma lungo le righe (axis=1) e lungo le colonne (axis=0)\n",
    "* Trova il valore massimo e la sua posizione (usando np.max() e np.argmax())\n",
    "* Crea una matrice booleana dove gli elementi sono maggiori di 5"
   ]
  },
  {
   "cell_type": "code",
   "execution_count": null,
   "id": "cb4df6f1",
   "metadata": {
    "scrolled": true
   },
   "outputs": [],
   "source": [
    "\"\"\"inserire il corpo dell'esercizio\"\"\""
   ]
  },
  {
   "cell_type": "markdown",
   "id": "0e6a86af",
   "metadata": {},
   "source": [
    "### Esercizio 4\n",
    "\n",
    "Scrivi una funzione che:\n",
    "\n",
    "* Prende in input una matrice A qualsiasi\n",
    "* Calcola il prodotto matriciale tra A e la sua trasposta\n",
    "* Calcola la media di ogni colonna della matrice risultante\n",
    "* Restituisce il valore massimo tra queste medie"
   ]
  },
  {
   "cell_type": "code",
   "execution_count": null,
   "id": "15fc5b60",
   "metadata": {},
   "outputs": [],
   "source": [
    "\"\"\"inserire il corpo dell'esercizio\"\"\""
   ]
  }
 ],
 "metadata": {
  "kernelspec": {
   "display_name": "Python (ML)",
   "language": "python",
   "name": "myenv"
  },
  "language_info": {
   "codemirror_mode": {
    "name": "ipython",
    "version": 3
   },
   "file_extension": ".py",
   "mimetype": "text/x-python",
   "name": "python",
   "nbconvert_exporter": "python",
   "pygments_lexer": "ipython3",
   "version": "3.12.3"
  }
 },
 "nbformat": 4,
 "nbformat_minor": 5
}
