{
 "cells": [
  {
   "cell_type": "code",
   "execution_count": null,
   "id": "3353579e-06c0-4449-9458-a95878b4ff23",
   "metadata": {},
   "outputs": [],
   "source": [
    "! pip freeze"
   ]
  },
  {
   "cell_type": "markdown",
   "id": "ff7fa934-0774-4640-bc2b-735057e1d399",
   "metadata": {},
   "source": [
    "### Una prima applicazione numerica dell'algebra lineare "
   ]
  },
  {
   "cell_type": "markdown",
   "id": "db21c111-5d89-4a16-97ff-19dfacbba652",
   "metadata": {},
   "source": [
    "In questo piccolo notebook ci concentreremo su una applicazione particolarmente utile a livello numerico, degli argomenti affrontati negli scorsi notebook, ovvero, la risoluzione di un sistema di equazioni lineari tramite __matrice pseudoinversa di Moore-Penrose__. \n",
    "Abbiamo visto in precedenza come, un sistema lineare del tipo:\n",
    "\n",
    "\\begin{cases}\n",
    "a_{11}x_{1} + a_{12}x_{2} + \\cdots + a_{1n}x_{n} = b_{1}\\\\\n",
    "a_{21}x_{1} + a_{22}x_{2} + \\cdots + a_{2n}x_{n} = b_{2}\\\\\n",
    "\\;\\vdots \\\\\n",
    "a_{m1}x_{1} + a_{m2}x_{2} + \\cdots + a_{mn}x_{n} = b_{m}\n",
    "\\end{cases}\n",
    "\n",
    "Può essere rappresentato in modo compatto da tre matrici, tale per cui un sistema generico è del tipo $Ax=b$. Se assumiamo che la matrice $A$ ha tutte le colonne linearmente indipendenti, allora questo sistema può essere risolto tramite __pseudoinversa__, ovvero:$$Ax=b \\Leftrightarrow A^{T}Ax = A^{T}b \\Leftrightarrow x=(A^{T}A)^{-1}A^{T}b $$\n",
    "in particolare, la matrice $(A^{T}A)^{-1}A^{T}$ risolve il sistema $ Ax=b $.\n",
    "La matrice, utilizzando Numpy, è molto semplice da cacolare:"
   ]
  },
  {
   "cell_type": "code",
   "execution_count": null,
   "id": "a2773555-943a-4ede-a00b-7ec55729dcab",
   "metadata": {},
   "outputs": [],
   "source": [
    "import numpy as np \n",
    "\n",
    "A = np.random.randint(0, 10, (3,3)) #matrice che ha come coefficienti valori nell'intervallo [0,10)\n",
    "A_T = A.T\n",
    "\n",
    "A_pinv = np.linalg.inv(A_T @ A) @ A_T\n",
    "print(A_pinv)\n",
    "\n",
    "\"\"\" oppure utilizzando direttamente la funzione di numpy\"\"\"\n",
    "\n",
    "A_pinv1 = np.linalg.pinv(A)\n",
    "print(A_pinv1)"
   ]
  },
  {
   "cell_type": "markdown",
   "id": "9674a980-a726-41dc-84bd-59432670291f",
   "metadata": {},
   "source": [
    "La pseudoinversa ha delle caratteristiche molto interessanti, infatti: sia $ A \\in \\mathbb{R}^{mxn} $ una matrice e sia $ A^+$ la sua pseudoinversa di __Moore–Penrose__. \n",
    "Allora, la pseudoinversa approssima l'identità nel senso che:\n",
    "\n",
    "\n",
    "$ A^+ A \\approx I_n \\quad \\text{se } m \\ge n \\quad $\n",
    "\n",
    "$\n",
    "A A^+ \\approx I_m \\quad \\text{se } m \\le n \\quad $\n",
    "\n",
    "In generale, la pseudoinversa soddisfa le condizioni di Moore-Penrose:\n",
    "* $A A^+ A = A$ , \n",
    "* $A^+ A A^+ = A^+$, \n",
    "* $(A A^+)^T = A A^+$, \n",
    "* $(A^+ A)^T = A^+ A$.\n",
    "\n",
    "Cerchiamo, attraverso una visualizzazione, di capire praticamente il funzionamento."
   ]
  },
  {
   "cell_type": "markdown",
   "id": "ca173f81-b839-41b4-92b9-356f505a4b08",
   "metadata": {},
   "source": [
    "Utilizziamo la libreria più utilizzata per la visualizzazione in Python, ovvero __Matplotlib__. Basta, come già spiegato, scaricare nel venv la libreria, ovvero eseguire il comando sulla shell: ```pip install matplotlib```, una volta attivato il venv, segue un esempio della pseudoinversa di Moore-Penrose:\n"
   ]
  },
  {
   "cell_type": "code",
   "execution_count": null,
   "id": "c9e0384f-233a-4210-aa05-3fe14a5264f4",
   "metadata": {
    "editable": true,
    "slideshow": {
     "slide_type": ""
    },
    "tags": []
   },
   "outputs": [],
   "source": [
    "%matplotlib inline \n",
    "\"\"\"questo comando è definito come comando magic di Ipython, \n",
    "permette di visualizzare i grafici nel notebook, piuttosto che in un'altra finestra\"\"\"\n",
    "\n",
    "import matplotlib.pyplot as plt #importiamo la libreria matplotlib\n",
    "import numpy as np \n",
    "\n",
    "A = np.array([[1,2,3],\n",
    "              [1,2,3],\n",
    "              [1,2,3]])\n",
    "\n",
    "B = np.linalg.pinv(A)\n",
    "\n",
    "C = A@B\n",
    "\n",
    "print(A)\n",
    "print(B)\n",
    "print(A@B)\n",
    "\n",
    "\"\"\"matshow è la funzione che ci permette di visualizzare ogni matrice come una heatmap\"\"\"\n",
    "\n",
    "plt.matshow(A)\n",
    "plt.title(\"Grafico della matrice originale\")\n",
    "\n",
    "plt.matshow(B)\n",
    "plt.title(\"Grafico della matrice pesudoinversa\")\n",
    "\n",
    "\n",
    "plt.matshow(C)\n",
    "plt.title(\"Grafico della matrice approssimata identità\")\n",
    "\n",
    "plt.show()"
   ]
  },
  {
   "cell_type": "markdown",
   "id": "67093a8e-250d-41ed-94be-e13a4b400b47",
   "metadata": {},
   "source": [
    "In particolare, è da notare come la matrice risultante non è esattamente quella identità, infatti la matrice iniziale $A$, non è invertibile. Al contrario:"
   ]
  },
  {
   "cell_type": "code",
   "execution_count": null,
   "id": "25e48ff4-7f61-43c5-95b3-2ec453280289",
   "metadata": {},
   "outputs": [],
   "source": [
    "A = np.array([[1,0,0],\n",
    "             [0,1,0],\n",
    "              [0,0,1]])\n",
    "print(A)\n",
    "B = np.linalg.pinv(A)\n",
    "print(B)\n",
    "\n",
    "C = A@B\n",
    "print(C)\n",
    "\n",
    "plt.matshow(A)\n",
    "plt.title(\"Grafico della matrice originale\")\n",
    "\n",
    "plt.matshow(B)\n",
    "plt.title(\"Grafico della matrice pseudoinversa\")\n",
    "\n",
    "plt.matshow(C)\n",
    "plt.title(\"Grafico della matrice approssimata identità\")\n",
    "\n",
    "plt.show()        "
   ]
  },
  {
   "cell_type": "markdown",
   "id": "6f0a05bd-a532-4227-ad74-177c347cd07d",
   "metadata": {},
   "source": [
    "In questo secondo esempio la matrice contiene solo vettori linearmente indipendenti, cioè le basi canoniche del loro rispettivo spazio vettoriale, e dunque è necessariamente invertibile."
   ]
  },
  {
   "cell_type": "markdown",
   "id": "16bdf48e-1cc6-4ab6-a15c-603d6979c3d0",
   "metadata": {},
   "source": [
    "Passiamo all'ultimo argomento della nostra trattazione sulla pseudoinversa, vediamo infatti cosa accade calcolando questo particolare tipo di matrice per matrici più grandi:"
   ]
  },
  {
   "cell_type": "code",
   "execution_count": null,
   "id": "770a4cf9-0963-468b-b593-f760647ada2e",
   "metadata": {},
   "outputs": [],
   "source": [
    "# non provateci nemmeno\n",
    "A = np.random.randint(0,10000,(20000,20000))\n",
    "B = np.linalg.pinv(A)"
   ]
  },
  {
   "cell_type": "markdown",
   "id": "a67f9a60-bce0-4c68-9f60-65e8ff19c280",
   "metadata": {},
   "source": [
    "Questo accade perchè, il calcolo della matrice finale (anche se Numpy la calcola tramite SVD, che rende la procedura più stabile) è molto complesso, infatti questo algoritmo ha una complessità temporale dell'ordine di $O(mn^2+n^3)$.\n",
    "Dobbiamo perciò utilizzare qualche stratagemma per cercare di velocizzare questo tipo di calcoli."
   ]
  },
  {
   "cell_type": "markdown",
   "id": "3214ff24-cc88-461d-814b-e5fcc6b71b1a",
   "metadata": {},
   "source": [
    "# Introduzione pratica a CUDA\n",
    "\n",
    "### Accelerazione computazionale con CUDA\n",
    "\n",
    "In questo notebook abbiamo visto come il calcolo della matrice pseudoinversa possa diventare computazionalmente costoso per matrici di grandi dimensioni. La complessità temporale dell'ordine di $O(mn² + n³)$ rende necessario trovare soluzioni per accelerare questi calcoli.\n",
    "\n",
    "**CUDA** (Compute Unified Device Architecture) è una piattaforma di computing parallelo sviluppata da NVIDIA che permette di sfruttare la potenza delle GPU per accelerare operazioni matematiche intensive.\n",
    "\n",
    "### Perché usare CUDA?\n",
    "- **Parallelismo massivo**: Le GPU contengono migliaia di core in grado di eseguire operazioni in parallelo\n",
    "- **Velocità**: Accelerazioni fino a 100x rispetto alle CPU per operazioni matriciali\n",
    "- **Efficienza**: Ottimizzato specificamente per operazioni di algebra lineare\n",
    "\n"
   ]
  },
  {
   "cell_type": "markdown",
   "id": "1913af6b-ce26-4ade-b295-3493970dd779",
   "metadata": {},
   "source": [
    "Per scaricare CUDA, basta scaricare da internet o tramite APT su linux, il toolkit per gli sviluppatori. In particolare a noi interessa una liberia per compiere al meglio delle operazioni su matrici, ovvero __Cupy__. Libreria del tutto simile a Numpy ma capace di utilizzare la computazione parallela garantita da cuda. \n",
    "Per scaricare Cupy bisogna verificare la versione di CUDA installata sul dispositivo, basta eseguire sulla shell il comando ```nvidia-smi```\n",
    "e come ogni liberia, scaricare con il venv attivato tramite ```pip install cupy-cuda<versione_di_cuda_scaricata>```. Nella maggior parte dei casi basterà eseguire ```pip install cupy-cuda12x```. "
   ]
  },
  {
   "cell_type": "markdown",
   "id": "9badcad0-e9be-41d3-aa33-8000930c7b67",
   "metadata": {},
   "source": [
    "Proviamo a confrontare delle operazioni matriciali nel caso di numpy e cupy:"
   ]
  },
  {
   "cell_type": "code",
   "execution_count": null,
   "id": "7e05f88b-44e7-4e79-a9d6-467fc98c021f",
   "metadata": {},
   "outputs": [],
   "source": [
    "import numpy as np \n",
    "\n",
    "A = np.random.randint(0,4000, (1500,1500))\n",
    "\n",
    "B = np.linalg.pinv(A)\n",
    "\n",
    "C = A @ B\n",
    "print(A)\n",
    "print(B)\n",
    "print(C)\n"
   ]
  },
  {
   "cell_type": "code",
   "execution_count": null,
   "id": "5b8e008d-dcc5-40b7-91e2-80b8845bc3fd",
   "metadata": {},
   "outputs": [],
   "source": [
    "import cupy as cp\n",
    "\"\"\"verifichiamo se cupy è attivo con cuda\"\"\"\n",
    "\n",
    "device = cp.is_available()\n",
    "if device == True:\n",
    "    print(\"Cuda attivo\")\n",
    "    print(cp.cuda.runtime.getDeviceProperties(0))\n",
    "\n",
    "A = cp.random.randint(0,4000, (1500,1500))\n",
    "\n",
    "B = cp.pinv(A)\n",
    "\n",
    "C = A @ B\n",
    "print(A)\n",
    "print(B)\n",
    "print(C)\n"
   ]
  }
 ],
 "metadata": {
  "kernelspec": {
   "display_name": "Python (ML)",
   "language": "python",
   "name": "myenv"
  },
  "language_info": {
   "codemirror_mode": {
    "name": "ipython",
    "version": 3
   },
   "file_extension": ".py",
   "mimetype": "text/x-python",
   "name": "python",
   "nbconvert_exporter": "python",
   "pygments_lexer": "ipython3",
   "version": "3.12.3"
  }
 },
 "nbformat": 4,
 "nbformat_minor": 5
}
